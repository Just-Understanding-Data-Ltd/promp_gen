{
 "cells": [
  {
   "cell_type": "code",
   "execution_count": 1,
   "metadata": {},
   "outputs": [],
   "source": [
    "from prompt_gen import PromptGenerator\n",
    "\n",
    "prompt_model = PromptGenerator()\n",
    "prompt_model.generate_random_prompts()"
   ]
  }
 ],
 "metadata": {
  "kernelspec": {
   "display_name": "Python 3.10.5 ('venv': venv)",
   "language": "python",
   "name": "python3"
  },
  "language_info": {
   "codemirror_mode": {
    "name": "ipython",
    "version": 3
   },
   "file_extension": ".py",
   "mimetype": "text/x-python",
   "name": "python",
   "nbconvert_exporter": "python",
   "pygments_lexer": "ipython3",
   "version": "3.10.5"
  },
  "orig_nbformat": 4,
  "vscode": {
   "interpreter": {
    "hash": "d14228a758deda1059276fe9ede74cd9a141fe83fa57aec72cbc7d5cb6db603b"
   }
  }
 },
 "nbformat": 4,
 "nbformat_minor": 2
}
